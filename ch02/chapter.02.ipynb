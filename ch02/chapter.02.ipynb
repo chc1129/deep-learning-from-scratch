{
 "cells": [
  {
   "cell_type": "markdown",
   "metadata": {},
   "source": [
    "### 2.1 パーセプトロンとは\n"
   ]
  },
  {
   "cell_type": "markdown",
   "metadata": {},
   "source": [
    "パーセプトロンとは,複数の信号を入力として受け取り,ひとつの信号を出力とします.\n",
    "電流が導線を流れ,電子を先に送り出すように,パーセプトロンの信号も流れを作り,情報を先へと伝達していきます.\n",
    "ただし,実施の電流とは違い,パーセプトロンの信号は「流す/流さない(1か0)」の二値の値です.\n"
   ]
  },
  {
   "cell_type": "markdown",
   "metadata": {},
   "source": [
    "$x_1, x_2$ は入力信号,\n",
    "$y_1, y_2$ は出力信号,\n",
    "$w_1, w_2$ は重みを表します.\n",
    "図の○は「ニューロン」や「ノード」と呼ばれます.  \n",
    "入力信号は,ニューロンに送られる際に,それぞれに固有の重みが乗算されます.  \n",
    "ニューロンでは送られてきた信号の総和が計算され,その総和がある限界値を超えた場合にのみ1を出力します.  \n",
    "ここでは,その **限界値** を$\\theta$ という記号で表すことにします.  \n",
    "パーセプトロンの動作原理はこれだけです.  \n",
    "以上のことを数式で表すと次の式のようになります.  "
   ]
  },
  {
   "cell_type": "markdown",
   "metadata": {},
   "source": [
    "![perceptron](perceptron.png)"
   ]
  },
  {
   "cell_type": "markdown",
   "metadata": {},
   "source": [
    "$$\n",
    "    \\mathrm{y} =\n",
    "        \\begin{cases}\n",
    "            0 \\quad ( w_1 x_1 + w_2 x_2 \\geqq \\theta ) \\\\\n",
    "            1 \\quad ( w_1 x_1 + w_2 x_2 > \\theta ) \\\\\n",
    "        \\end{cases}\n",
    "$$"
   ]
  },
  {
   "cell_type": "markdown",
   "metadata": {},
   "source": [
    "パーセプトロンは,複数ある入力信号のそれぞれに固有の重みを持ちます.\n",
    "そして,その重みは,各信号の重要性をコントロールする要素として働きます.\n",
    "つまり,重みが大きいほど,その重みに対応する信号の重要性が高くなります."
   ]
  },
  {
   "cell_type": "markdown",
   "metadata": {},
   "source": [
    "### 2.2 単純な論理回路"
   ]
  },
  {
   "cell_type": "markdown",
   "metadata": {},
   "source": [
    "### 2.2.1 ANDゲート\n",
    "\n",
    "| $x_1$ | $x_2$ | y |\n",
    "|:---:|:---:|:---:|\n",
    "|  0  |  0  |  0  |\n",
    "|  1  |  0  |  0  |\n",
    "|  0  |  1  |  0  |\n",
    "|  1  |  1  |  1  |\n"
   ]
  },
  {
   "cell_type": "markdown",
   "metadata": {},
   "source": [
    "### 2.2.2 NANDゲートとORゲート"
   ]
  },
  {
   "cell_type": "markdown",
   "metadata": {},
   "source": [
    "### NANDゲート\n",
    "\n",
    "| $x_1$ | $x_2$ | y |\n",
    "|:---:|:---:|:---:|\n",
    "|  0  |  0  |  1  |\n",
    "|  1  |  0  |  1  |\n",
    "|  0  |  1  |  1  |\n",
    "|  1  |  1  |  0  |\n",
    "\n",
    "### ORゲート\n",
    "\n",
    "| $x_1$ | $x_2$ | y |\n",
    "|:---:|:---:|:---:|\n",
    "|  0  |  0  |  0  |\n",
    "|  1  |  0  |  1  |\n",
    "|  0  |  1  |  1  |\n",
    "|  1  |  1  |  1  |\n"
   ]
  },
  {
   "cell_type": "markdown",
   "metadata": {},
   "source": [
    "### 2.3 パーセプトロンの実装\n",
    "### 2.3.1 簡単な実装"
   ]
  },
  {
   "cell_type": "code",
   "execution_count": null,
   "metadata": {},
   "outputs": [],
   "source": [
    "先の論理回路を"
   ]
  },
  {
   "cell_type": "code",
   "execution_count": 2,
   "metadata": {},
   "outputs": [],
   "source": [
    "import numpy as np\n",
    "x = np.array([0, 1]) # 入力\n",
    "w = np.array([0.5, 0.5]) # 重み\n",
    "b  = -0.7"
   ]
  },
  {
   "cell_type": "code",
   "execution_count": 6,
   "metadata": {},
   "outputs": [
    {
     "data": {
      "text/plain": [
       "array([0. , 0.5])"
      ]
     },
     "execution_count": 6,
     "metadata": {},
     "output_type": "execute_result"
    }
   ],
   "source": [
    "w*x"
   ]
  },
  {
   "cell_type": "code",
   "execution_count": 7,
   "metadata": {},
   "outputs": [
    {
     "data": {
      "text/plain": [
       "0.5"
      ]
     },
     "execution_count": 7,
     "metadata": {},
     "output_type": "execute_result"
    }
   ],
   "source": [
    "np.sum(w*x)"
   ]
  },
  {
   "cell_type": "code",
   "execution_count": 8,
   "metadata": {},
   "outputs": [
    {
     "data": {
      "text/plain": [
       "-0.19999999999999996"
      ]
     },
     "execution_count": 8,
     "metadata": {},
     "output_type": "execute_result"
    }
   ],
   "source": [
    "np.sum(w*x) + b"
   ]
  },
  {
   "cell_type": "code",
   "execution_count": null,
   "metadata": {},
   "outputs": [],
   "source": []
  }
 ],
 "metadata": {
  "kernelspec": {
   "display_name": "Python 3",
   "language": "python",
   "name": "python3"
  },
  "language_info": {
   "codemirror_mode": {
    "name": "ipython",
    "version": 3
   },
   "file_extension": ".py",
   "mimetype": "text/x-python",
   "name": "python",
   "nbconvert_exporter": "python",
   "pygments_lexer": "ipython3",
   "version": "3.7.6"
  }
 },
 "nbformat": 4,
 "nbformat_minor": 2
}
