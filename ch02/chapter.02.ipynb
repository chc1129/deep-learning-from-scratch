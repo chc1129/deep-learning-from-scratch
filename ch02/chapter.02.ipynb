{
 "cells": [
  {
   "cell_type": "markdown",
   "metadata": {},
   "source": [
    "### 2.1 パーセプトロンとは\n"
   ]
  },
  {
   "cell_type": "markdown",
   "metadata": {},
   "source": [
    "パーセプトロンとは,複数の信号を入力として受け取り,ひとつの信号を出力とします.\n",
    "電流が導線を流れ,電子を先に送り出すように,パーセプトロンの信号も流れを作り,情報を先へと伝達していきます.\n",
    "ただし,実施の電流とは違い,パーセプトロンの信号は「流す/流さない(1か0)」の二値の値です.\n"
   ]
  },
  {
   "cell_type": "markdown",
   "metadata": {},
   "source": [
    "$x_1, x_2$ は入力信号,\n",
    "$y_1, y_2$ は出力信号,\n",
    "$w_1, w_2$ は重みを表します.\n",
    "図の○は「ニューロン」や「ノード」と呼ばれます.  \n",
    "入力信号は,ニューロンに送られる際に,それぞれに固有の重みが乗算されます.  \n",
    "ニューロンでは送られてきた信号の総和が計算され,その総和がある限界値を超えた場合にのみ1を出力します.  \n",
    "ここでは,その **限界値** を$\\theta$ という記号で表すことにします.  \n",
    "パーセプトロンの動作原理はこれだけです.  \n",
    "以上のことを数式で表すと次の式のようになります.  "
   ]
  },
  {
   "cell_type": "markdown",
   "metadata": {},
   "source": [
    "![perceptron](perceptron.png)\n",
    "図2-1"
   ]
  },
  {
   "cell_type": "markdown",
   "metadata": {},
   "source": [
    "$$\n",
    "    \\mathrm{y} =\n",
    "        \\begin{cases}\n",
    "            0 \\quad ( w_1 x_1 + w_2 x_2 \\leqq \\theta ) \\\\\n",
    "            1 \\quad ( w_1 x_1 + w_2 x_2 > \\theta ) \\\\\n",
    "        \\end{cases}\n",
    "    \\tag{2.1}\n",
    "$$"
   ]
  },
  {
   "cell_type": "markdown",
   "metadata": {},
   "source": [
    "パーセプトロンは,複数ある入力信号のそれぞれに固有の重みを持ちます.\n",
    "そして,その重みは,各信号の重要性をコントロールする要素として働きます.\n",
    "つまり,重みが大きいほど,その重みに対応する信号の重要性が高くなります."
   ]
  },
  {
   "cell_type": "markdown",
   "metadata": {},
   "source": [
    "### 2.2 単純な論理回路"
   ]
  },
  {
   "cell_type": "markdown",
   "metadata": {},
   "source": [
    "### 2.2.1 ANDゲート\n",
    "\n",
    "| $x_1$ | $x_2$ | y |\n",
    "|:---:|:---:|:---:|\n",
    "|  0  |  0  |  0  |\n",
    "|  1  |  0  |  0  |\n",
    "|  0  |  1  |  0  |\n",
    "|  1  |  1  |  1  |\n"
   ]
  },
  {
   "cell_type": "markdown",
   "metadata": {},
   "source": [
    "### 2.2.2 NANDゲートとORゲート"
   ]
  },
  {
   "cell_type": "markdown",
   "metadata": {},
   "source": [
    "### NANDゲート\n",
    "\n",
    "| $x_1$ | $x_2$ | y |\n",
    "|:---:|:---:|:---:|\n",
    "|  0  |  0  |  1  |\n",
    "|  1  |  0  |  1  |\n",
    "|  0  |  1  |  1  |\n",
    "|  1  |  1  |  0  |\n",
    "\n",
    "### ORゲート\n",
    "\n",
    "| $x_1$ | $x_2$ | y |\n",
    "|:---:|:---:|:---:|\n",
    "|  0  |  0  |  0  |\n",
    "|  1  |  0  |  1  |\n",
    "|  0  |  1  |  1  |\n",
    "|  1  |  1  |  1  |\n"
   ]
  },
  {
   "cell_type": "markdown",
   "metadata": {},
   "source": [
    "### 2.3 パーセプトロンの実装\n",
    "### 2.3.1 簡単な実装"
   ]
  },
  {
   "cell_type": "markdown",
   "metadata": {},
   "source": [
    "先の論理回路をPythonで実装する.\n",
    "ここでは引数をとしてx1 と x2を受け取るANDという関数を定義する."
   ]
  },
  {
   "cell_type": "code",
   "execution_count": 3,
   "metadata": {},
   "outputs": [],
   "source": [
    "def AND(x1, x2):\n",
    "    w1, w2, theta = 0.5, 0.5, 0.7\n",
    "    tmp = x1*w1 + x2*w2\n",
    "    if tmp <= theta:\n",
    "        return 0\n",
    "    elif tmp > theta:\n",
    "        return 1"
   ]
  },
  {
   "cell_type": "markdown",
   "metadata": {},
   "source": [
    "パラメータのw1, w2, thetaは関数内で初期化し,重み付きの入力の総和が閾値を超えると1を返し,それ以外は0を返します."
   ]
  },
  {
   "cell_type": "code",
   "execution_count": 4,
   "metadata": {},
   "outputs": [
    {
     "data": {
      "text/plain": [
       "0"
      ]
     },
     "execution_count": 4,
     "metadata": {},
     "output_type": "execute_result"
    }
   ],
   "source": [
    "AND(0, 0) # 0を出力"
   ]
  },
  {
   "cell_type": "code",
   "execution_count": 5,
   "metadata": {},
   "outputs": [
    {
     "data": {
      "text/plain": [
       "0"
      ]
     },
     "execution_count": 5,
     "metadata": {},
     "output_type": "execute_result"
    }
   ],
   "source": [
    "AND(1, 0) # 0を出力"
   ]
  },
  {
   "cell_type": "code",
   "execution_count": 6,
   "metadata": {},
   "outputs": [
    {
     "data": {
      "text/plain": [
       "0"
      ]
     },
     "execution_count": 6,
     "metadata": {},
     "output_type": "execute_result"
    }
   ],
   "source": [
    "AND(0, 1) # 0を出力"
   ]
  },
  {
   "cell_type": "code",
   "execution_count": 7,
   "metadata": {},
   "outputs": [
    {
     "data": {
      "text/plain": [
       "1"
      ]
     },
     "execution_count": 7,
     "metadata": {},
     "output_type": "execute_result"
    }
   ],
   "source": [
    "AND(1, 1) # 0を出力"
   ]
  },
  {
   "cell_type": "markdown",
   "metadata": {},
   "source": [
    "### 2.3.2 重みとバイアスの導入"
   ]
  },
  {
   "cell_type": "markdown",
   "metadata": {},
   "source": [
    "先のANDゲートの実装は素直で分かりやすいのですが,これ以降のことを考えて、別の実装方式へと修正したいと思います.\n",
    "それに先立ち式(2.1)の$\\theta$を$-b$として,パーセプトロンの動作を次の式(2.2)で表します."
   ]
  },
  {
   "cell_type": "markdown",
   "metadata": {},
   "source": [
    "$$\n",
    "    \\mathrm{y} =\n",
    "        \\begin{cases}\n",
    "            0 \\quad ( b + w_1 x_1 + w_2 x_2 \\leqq 0 ) \\\\\n",
    "            1 \\quad ( b + w_1 x_1 + w_2 x_2 > 0 ) \\\\\n",
    "        \\end{cases}\n",
    "    \\tag{2.2}\n",
    "$$"
   ]
  },
  {
   "cell_type": "markdown",
   "metadata": {},
   "source": [
    "式$(2.1)$と式$(2.2)$は記号の表記を変えただけで,まったく同じことを表しています.  \n",
    "ここで,$b$を**バイアス**と呼び,$w_1$や$w_2$を**重み**と呼びます.  \n",
    "式$(2.2)$で表せるように,パーセプトロンでは,入力信号に重みが乗算された値をバイアスの和が計算され,その値が0を上回れば1を出力し,そうでなければ0を出力します.  \n",
    "それでは,NumPyを使って式$(2.2)$の方式で実装してみましょう.  "
   ]
  },
  {
   "cell_type": "code",
   "execution_count": 9,
   "metadata": {},
   "outputs": [],
   "source": [
    "import numpy as np\n",
    "x = np.array([0, 1]) # 入力\n",
    "w = np.array([0.5, 0.5]) # 重み\n",
    "b  = -0.7 # バイアス"
   ]
  },
  {
   "cell_type": "code",
   "execution_count": 10,
   "metadata": {},
   "outputs": [
    {
     "data": {
      "text/plain": [
       "array([0. , 0.5])"
      ]
     },
     "execution_count": 10,
     "metadata": {},
     "output_type": "execute_result"
    }
   ],
   "source": [
    "w*x"
   ]
  },
  {
   "cell_type": "code",
   "execution_count": 11,
   "metadata": {},
   "outputs": [
    {
     "data": {
      "text/plain": [
       "0.5"
      ]
     },
     "execution_count": 11,
     "metadata": {},
     "output_type": "execute_result"
    }
   ],
   "source": [
    "np.sum(w*x)"
   ]
  },
  {
   "cell_type": "code",
   "execution_count": 12,
   "metadata": {},
   "outputs": [
    {
     "data": {
      "text/plain": [
       "-0.19999999999999996"
      ]
     },
     "execution_count": 12,
     "metadata": {},
     "output_type": "execute_result"
    }
   ],
   "source": [
    "np.sum(w*x) + b"
   ]
  },
  {
   "cell_type": "markdown",
   "metadata": {},
   "source": [
    "この例で示すように,NumPyt配列の乗算では,2つの配列の要素数が同じ場合,その要素どうしが乗算されます.  \n",
    "そのため, $w*x$の計算では,各要素の乗算が計算されることになります.  \n",
    "([0, 1] * [0.5, 0.5] => [0, 0.5])  \n",
    "また, np.sum(w*x)では各要素の総和が計算されます.  \n",
    "この重み付き和にバイアスを加算すれば,式$(2.2$)の計算は終了です.  "
   ]
  },
  {
   "cell_type": "markdown",
   "metadata": {},
   "source": [
    "### 2.3.3 重みとバイアスによる実装"
   ]
  },
  {
   "cell_type": "markdown",
   "metadata": {},
   "source": [
    "「重みとバイアスによる方式」を用いれば, ANDゲートは次のように実装することができます.  "
   ]
  },
  {
   "cell_type": "code",
   "execution_count": null,
   "metadata": {},
   "outputs": [],
   "source": [
    "def AND(x1, x2):\n",
    "    x = np.array([x1, x2])\n",
    "    w = np.array([0.5, 0.5])\n",
    "    b = -0.7\n",
    "    tmp = np.sum(w*x) + b\n",
    "    if tmp <= 0:\n",
    "        return 0\n",
    "    else:\n",
    "        return 1"
   ]
  },
  {
   "cell_type": "markdown",
   "metadata": {},
   "source": [
    "ここで$-\\theta$をバイアス$b$と命名しましたが, バイアスは, 重みの$w_1$や$w_2$とは別の働きをすることに注意しましょう.  \n",
    "具体的に言うと, $w_1$や$w_2$は入力信号への重要度をコントロールするパラメータとして機能しますが, バイアスは発火のしやすさ  \n",
    "--- 出力信号が1を出力する度合い ---  \n",
    "を調整するパラメータとして機能します.  \n",
    "たとえば, $b$が$-0.1$であれば, 入力信号の重み付き和が $0.1$ を右腕割るだけでニューロンが発火します.  \n",
    "しかし, もし$b$が$-20.0$であれば, 入力信号の重み付き和が $20.0$ を上回らなければニューロンが発火しません.  \n",
    "このように, バイアスの値によって, ニューロンの発火のしやすさが決まります. \n",
    "なお, $w_1$ や $w_2$ は「重み」と呼び, $b$ は「バイアス」と区別して呼びますが, 文脈によっては, $b, w_1, w_2$ のすべてのパラメータを指して「重み」と呼ぶことがあります.  "
   ]
  },
  {
   "cell_type": "markdown",
   "metadata": {},
   "source": [
    "NANDゲートとORゲートを実装すると以下の通りとなります.  "
   ]
  },
  {
   "cell_type": "code",
   "execution_count": 13,
   "metadata": {},
   "outputs": [],
   "source": [
    "def NAND(x1, x2):\n",
    "    x = np.array([x1, x2])\n",
    "    w = np.array([0.5, -0.5]) # 重みとバイアスだけがANDと違う!\n",
    "    b = 0.7\n",
    "    tmp = np.sum(w*x) + b\n",
    "    if tmp <= 0:\n",
    "        return 0\n",
    "    else:\n",
    "        return 1"
   ]
  },
  {
   "cell_type": "code",
   "execution_count": 14,
   "metadata": {},
   "outputs": [],
   "source": [
    "def OR(x1, x2):\n",
    "    x = np.array([x1, x2])\n",
    "    w = np.array([0.5, 0.5]) # 重みとバイアスだけがANDと違う!\n",
    "    b = -0.2\n",
    "    tmp = np.sum(w+x) + b\n",
    "    if tmp <= 0:\n",
    "        return 0\n",
    "    else:\n",
    "        return 1"
   ]
  },
  {
   "cell_type": "markdown",
   "metadata": {},
   "source": [
    "AND, NAND, ORは同じ構造のパーセプトロンであり, 違いは重みのパラメータの値だけでした.  \n",
    "NANDとORゲートの実装においても, ANDと異なる箇所は重みとバイアスの値を設定する箇所だけになります.  "
   ]
  },
  {
   "cell_type": "markdown",
   "metadata": {},
   "source": [
    "### 2.4 パーセプトロンの限界"
   ]
  },
  {
   "cell_type": "markdown",
   "metadata": {},
   "source": [
    "### 2.4.1 XORゲート"
   ]
  },
  {
   "cell_type": "markdown",
   "metadata": {},
   "source": [
    "XORゲートは**排他的論理和**とも呼ばれる論理回路です.  \n",
    "$x_1$と$x_2$のどちらかが1のとだけ出力が1になります.  (「排他的」とは自分以外は拒否することを意味します.)  \n",
    "このXORゲートをパーセプトロンで実装するには, どのような重みパラメータを設定すればよいでしょうか?  "
   ]
  },
  {
   "cell_type": "markdown",
   "metadata": {},
   "source": [
    "### XORゲート\n",
    "\n",
    "| $x_1$ | $x_2$ | y |\n",
    "|:---:|:---:|:---:|\n",
    "|  0  |  0  |  0  |\n",
    "|  1  |  0  |  1  |\n",
    "|  0  |  1  |  1  |\n",
    "|  1  |  1  |  0  |\n"
   ]
  },
  {
   "cell_type": "markdown",
   "metadata": {},
   "source": [
    "実は,これまで見てきたパーセプトロンでは, このXORゲートを実現できません.\n",
    "それを説明するためにここでは図を描いて視覚的に考えてみたいと思います.  \n",
    "まずORゲートの挙動を視覚的に考えてみます.  \n",
    "ORゲートは例えば, 重みパラメータが$(b, w_1, w_2) = (-0.5, 1.0, 1.0)$のとき,ORゲートの真理値表を満たします.  \n",
    "このときパーセプトロンは次の式(2.3)で表現されます.  \n"
   ]
  },
  {
   "cell_type": "markdown",
   "metadata": {},
   "source": [
    "$$\n",
    "    \\mathrm{y} =\n",
    "        \\begin{cases}\n",
    "            0 \\quad ( -0.5 + x_1 + x_2 \\leqq 0 ) \\\\\n",
    "            1 \\quad ( -0.5 + x_1 + x_2 > 0 ) \\\\\n",
    "        \\end{cases}\n",
    "    \\tag{2.3}\n",
    "$$"
   ]
  },
  {
   "cell_type": "markdown",
   "metadata": {},
   "source": [
    "式(2.3)で表されるパーセプトロンは, $-0.5 + x_1 + x_2 = 0$の直線で分断された2つの領域を作ります.  \n",
    "直線で分けられた, 片方の領域を1を出力し, もう片方は0を出力します.  "
   ]
  },
  {
   "cell_type": "markdown",
   "metadata": {},
   "source": [
    "![perceptron_kasika](perceptron_kasika.png)\n",
    "図2-6"
   ]
  },
  {
   "cell_type": "markdown",
   "metadata": {},
   "source": [
    "ORゲートは$(x_1, x_2) = (0, 0$のとき0を出力し, $(0, 1), (1, 0), (1, 1)$のとき1を出力します.  \n",
    "図では0を○, 1を△であらわしています.  \n",
    "ORゲートを作ろうと思えば, 図の○と△を直線によって分ける必要があります.  \n",
    "実際, 先の直線は, 4つの点を正しく分けることができています.  \n",
    "それでは, XORゲートの場合はどうでしょうか.  \n",
    "ORゲートのときのように, 1本の直線でわけることができｓるでしょうか?\n",
    "図2-7の○と△を直線によってわけることは,いくら考えてもできないでしょう.  \n",
    "実は1本の直線では, ○と△を分けることができないのです.  "
   ]
  },
  {
   "cell_type": "markdown",
   "metadata": {},
   "source": [
    "![xor_gate](xor_gate.png)\n",
    "図2-7"
   ]
  },
  {
   "cell_type": "markdown",
   "metadata": {},
   "source": [
    "### 2.4.2 線形と非線形"
   ]
  },
  {
   "cell_type": "markdown",
   "metadata": {},
   "source": [
    "図2-7の○と△は, 1本の直線ではわけることができません.  \n",
    "しかし, もし\"直線\"という制約を外すことができたら, ○と△を分けることができます.  \n",
    "たとえば, 図2-8のように○と△を分ける領域を作ることができます.  \n",
    "パーセプトロンの限界は, このように1本の直線で分けた領域だけした表現できない点にあります.  \n",
    "図2-8のようなクネッとした曲線をパーセプトロンでは表現できないのです.  \n",
    "ちなみに, 図2-8のような曲線による領域を**非線形**な領域と言い,直線による領域を**線形**な領域と言います.  \n",
    "線形・非線形という言葉は機械学習の分野でよく耳にしますが, イメージとしては図2-6や図2-8のようなものを頭に浮かべることができます.  "
   ]
  },
  {
   "cell_type": "markdown",
   "metadata": {},
   "source": [
    "![perseptron_hisenkei](perseptron_hisenkei.png)\n",
    "図2-8"
   ]
  },
  {
   "cell_type": "markdown",
   "metadata": {},
   "source": [
    "### 2.5 多層パーセプトロン"
   ]
  },
  {
   "cell_type": "markdown",
   "metadata": {},
   "source": [
    "残念ながらパーセプトロンはXORゲートを表現できませんでした.  \n",
    "しかし, \"層を重ねる\"ことでXORゲートを表現できるようになります.  "
   ]
  },
  {
   "cell_type": "markdown",
   "metadata": {},
   "source": [
    "### 2.5.1 既存ゲートの組み合わせ"
   ]
  },
  {
   "cell_type": "code",
   "execution_count": null,
   "metadata": {},
   "outputs": [],
   "source": [
    "XORゲートを作るにはいくつか方法があります.  \n",
    "ひとつの方法は, これまで作ってきたAND, NAND, ORゲートを組み合わせて配線することです.  \n",
    "ここではAND, NAND, ORゲートを図2-9の記号で表記します.  \n"
   ]
  }
 ],
 "metadata": {
  "kernelspec": {
   "display_name": "Python 3",
   "language": "python",
   "name": "python3"
  },
  "language_info": {
   "codemirror_mode": {
    "name": "ipython",
    "version": 3
   },
   "file_extension": ".py",
   "mimetype": "text/x-python",
   "name": "python",
   "nbconvert_exporter": "python",
   "pygments_lexer": "ipython3",
   "version": "3.7.6"
  }
 },
 "nbformat": 4,
 "nbformat_minor": 2
}
