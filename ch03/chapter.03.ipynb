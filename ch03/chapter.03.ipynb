{
 "cells": [
  {
   "cell_type": "markdown",
   "metadata": {},
   "source": [
    "### 3 ニューラルネットワーク"
   ]
  },
  {
   "cell_type": "markdown",
   "metadata": {},
   "source": [
    "### 3.1 パーセプトロンからニューラルネットワーク"
   ]
  },
  {
   "cell_type": "markdown",
   "metadata": {},
   "source": [
    "### 3.1.1 ニューラルネットワークの例"
   ]
  },
  {
   "cell_type": "markdown",
   "metadata": {},
   "source": [
    "ニューラルネットワークを図で表すと, 図3-1のようになります.  \n",
    "ここで一番左の列を**入力層**, 一番右の列を**出力層**, 中間の列を**中間層**と呼びます.  \n",
    "中間層は**隠れ層**と呼ぶこともあります\n",
    "「隠れ」という言葉は, 隠れ層のニューロンが(入力層や出力層とは違って)人の目には見えない, ということを表しています.  \n",
    "ここでは, 入力層から出力層へ向かって, 順に第0層, 第1層, 第2層と呼ぶことにします.  \n",
    "図3-1では, 第0層が入力層, 第1層が中間層, 第2層が出力層に対応することになります.  "
   ]
  },
  {
   "cell_type": "markdown",
   "metadata": {},
   "source": [
    "図3-1を見る限り,前章で見たパーセプトロンと同じような形をしています.  \n",
    "実際, ニューロンの\"つながり方\"に関して言えば, 前章で見たパーセプトロンと何ら変わりません.  \n",
    "それでは,ニューラルネットワークではどのように信号を伝達するのでしょうか.  "
   ]
  },
  {
   "cell_type": "markdown",
   "metadata": {},
   "source": [
    "### 3.1.2 パーセプトロンの復習"
   ]
  },
  {
   "cell_type": "markdown",
   "metadata": {},
   "source": [
    "これからニューラルネットワークにおける信号の伝達方法を見ていきますが, それに先立ち,ここではパーセプトロンの復習から始めたいとおもいます.  \n",
    "それでは,初めに,図3-2の構造のネットワークを考えましょう.  "
   ]
  },
  {
   "cell_type": "markdown",
   "metadata": {},
   "source": [
    "図3-2は$x_1$と$x_2$の2つの入力信号を受け取り, $y$を出力するパーセプトロンです.  \n",
    "図3-2のパーセプトロンを数式で表すと, 次の式(3.1)で表せるのでした.  "
   ]
  },
  {
   "cell_type": "markdown",
   "metadata": {},
   "source": [
    "$$\n",
    "    \\mathrm{y} =\n",
    "        \\begin{cases}\n",
    "            0 \\quad ( b + w_1x_1 + w_2x_2 \\leqq 0 ) \\\\\n",
    "            1 \\quad ( b + w_1x_1 + w_2x_2 > 0 ) \\\\\n",
    "        \\end{cases}\n",
    "    \\tag{3.1}\n",
    "$$"
   ]
  },
  {
   "cell_type": "markdown",
   "metadata": {},
   "source": [
    "ここで,$b$は「バイアス」と呼ばれるパラメータで,これはニューロンの発火のしやすさをコントロールします.  \n",
    "一方, $w_1$や$w_2$は各信号の「重み」を表すパラメータで, これらは各信号の重要性をコントロールします.  \n",
    "ところで, 図3-2のネットワークにはバイアス$b$が図示されていません.  \n",
    "もしバイアスを明示するならば, 図3-3のように表すことができます.  \n",
    "図3-3では,重みが$b$で入力が1の信号が追加されています.  \n",
    "このパーセプトロンの動作は, $x_1$と$x_2$と1の3つの諡号がニューロンの入力となり, それら3つの信号にそれぞれの重みが乗算され, 次のニューロンに送信されます.  \n",
    "次のニューロンでは,それらの重み付けされた信号の和が計算され, その和が0を超えたら1を出力し, そうでなければ0を出力します.  \n",
    "ちなみに,バイアスの入力信号は常に1であるため, 図で表す際には, ニューロンを灰色で塗りつぶし, 他のニューロンと差別化することにします.  "
   ]
  },
  {
   "cell_type": "code",
   "execution_count": null,
   "metadata": {},
   "outputs": [],
   "source": []
  },
  {
   "cell_type": "code",
   "execution_count": null,
   "metadata": {},
   "outputs": [],
   "source": []
  },
  {
   "cell_type": "code",
   "execution_count": null,
   "metadata": {},
   "outputs": [],
   "source": []
  },
  {
   "cell_type": "code",
   "execution_count": null,
   "metadata": {},
   "outputs": [],
   "source": []
  }
 ],
 "metadata": {
  "kernelspec": {
   "display_name": "Python 3",
   "language": "python",
   "name": "python3"
  },
  "language_info": {
   "codemirror_mode": {
    "name": "ipython",
    "version": 3
   },
   "file_extension": ".py",
   "mimetype": "text/x-python",
   "name": "python",
   "nbconvert_exporter": "python",
   "pygments_lexer": "ipython3",
   "version": "3.7.6"
  }
 },
 "nbformat": 4,
 "nbformat_minor": 2
}
